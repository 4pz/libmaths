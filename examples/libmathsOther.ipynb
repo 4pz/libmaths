{
  "nbformat": 4,
  "nbformat_minor": 0,
  "metadata": {
    "colab": {
      "name": "funcMathTestingNorm.ipynb",
      "provenance": [],
      "collapsed_sections": []
    },
    "kernelspec": {
      "name": "python3",
      "display_name": "Python 3"
    }
  },
  "cells": [
    {
      "cell_type": "code",
      "metadata": {
        "id": "sMrGrEnsO7eZ"
      },
      "source": [
        "import numpy as np\n",
        "import math"
      ],
      "execution_count": null,
      "outputs": []
    },
    {
      "cell_type": "code",
      "metadata": {
        "id": "SHDldGRgO-jf"
      },
      "source": [
        "def sigmoid(x):\n",
        "  \n",
        "  return 1 / (1 + np.exp(-x))"
      ],
      "execution_count": null,
      "outputs": []
    },
    {
      "cell_type": "code",
      "metadata": {
        "id": "Amc3Uk9aPAzb"
      },
      "source": [
        "sigmoid(0.5)"
      ],
      "execution_count": null,
      "outputs": []
    },
    {
      "cell_type": "code",
      "metadata": {
        "id": "zf-fpI07UyLl"
      },
      "source": [
        "def relu(x):\n",
        "\n",
        "  return np.maximum(0, x)"
      ],
      "execution_count": null,
      "outputs": []
    },
    {
      "cell_type": "code",
      "metadata": {
        "id": "D3w0xPKxU4wz"
      },
      "source": [
        "relu(10)"
      ],
      "execution_count": null,
      "outputs": []
    },
    {
      "cell_type": "code",
      "metadata": {
        "id": "8VwhVJZBU8B6"
      },
      "source": [
        "def isPrime(*integers):\n",
        "  for value in integers:\n",
        "    if value > 1:\n",
        "    \n",
        "        # Iterate from 2 to n / 2\n",
        "        for i in range(2, value):\n",
        "    \n",
        "            # If num is divisible by any number between\n",
        "            # 2 and n / 2, it is not prime\n",
        "            if (value % i) == 0:\n",
        "                print(value, \"is not a prime number\")\n",
        "                break\n",
        "        else:\n",
        "            print(value, \"is a prime number\")\n",
        "    \n",
        "    else:\n",
        "        print(value, \"is not a prime number\")"
      ],
      "execution_count": null,
      "outputs": []
    },
    {
      "cell_type": "code",
      "metadata": {
        "id": "oa-cDWnnpV7s"
      },
      "source": [
        "isPrime(15)"
      ],
      "execution_count": null,
      "outputs": []
    },
    {
      "cell_type": "code",
      "metadata": {
        "id": "A5SrxiL8qx11"
      },
      "source": [
        "def isSquare(*integers):\n",
        " \n",
        "    #if x >= 0,\n",
        "    for value in integers: \n",
        "      if value >= 0:\n",
        "          sr = math.sqrt(value)\n",
        "          \n",
        "          #return boolean T/F\n",
        "          if sr**2 == value:\n",
        "            print(value, \"is a perfect square\")\n",
        "          else:\n",
        "            print(value, \"is not a perfect square\")"
      ],
      "execution_count": null,
      "outputs": []
    },
    {
      "cell_type": "code",
      "metadata": {
        "id": "NkyHhrNOrzgb"
      },
      "source": [
        "isSquare(36)"
      ],
      "execution_count": null,
      "outputs": []
    },
    {
      "cell_type": "code",
      "metadata": {
        "id": "mjmwqdyOt0iU"
      },
      "source": [
        "def divisor(x):\n",
        "\n",
        "  count = 0\n",
        "\n",
        "  for i in range(1, x+1):\n",
        "    \n",
        "    if x % i == 0:\n",
        "      \n",
        "      count += 1\n",
        "\n",
        "  return(count)"
      ],
      "execution_count": null,
      "outputs": []
    },
    {
      "cell_type": "code",
      "metadata": {
        "id": "jv8VLLDCvW5b"
      },
      "source": [
        "print(divisor(100))"
      ],
      "execution_count": null,
      "outputs": []
    }
  ]
}